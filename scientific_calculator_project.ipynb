{
 "cells": [
  {
   "cell_type": "code",
   "execution_count": 1,
   "id": "c65bdb03-4619-482a-a0b7-7f044719454b",
   "metadata": {},
   "outputs": [
    {
     "name": "stdout",
     "output_type": "stream",
     "text": [
      "Welcome To Basic Scientific Calculator\n",
      "You can use: + - * / ** sqrt() log() sin() cos() tan()\n",
      "Type 'exit' to quit.\n",
      "PLEASE ENTER THE EXPRESION YOU WANT TO CALCULATE :- \n"
     ]
    },
    {
     "name": "stdin",
     "output_type": "stream",
     "text": [
      " sqrt(5)\n"
     ]
    },
    {
     "name": "stdout",
     "output_type": "stream",
     "text": [
      "Result :- 2.23606797749979\n"
     ]
    },
    {
     "name": "stdin",
     "output_type": "stream",
     "text": [
      " sqrt(25)+sqrt(25)\n"
     ]
    },
    {
     "name": "stdout",
     "output_type": "stream",
     "text": [
      "Result :- 10.0\n"
     ]
    },
    {
     "name": "stdin",
     "output_type": "stream",
     "text": [
      " exit\n"
     ]
    },
    {
     "name": "stdout",
     "output_type": "stream",
     "text": [
      "Good Bye\n"
     ]
    }
   ],
   "source": [
    "import math\n",
    "\n",
    "print(\"Welcome To Basic Scientific Calculator\")\n",
    "print(\"You can use: + - * / ** sqrt() log() sin() cos() tan()\")\n",
    "print(\"Type 'exit' to quit.\")\n",
    "print(\"PLEASE ENTER THE EXPRESION YOU WANT TO CALCULATE :- \")\n",
    "\n",
    "\n",
    "\n",
    "while True:\n",
    "    exp = input()\n",
    "    if exp.lower() == \"exit\":\n",
    "        print(\"Good Bye\")\n",
    "        break\n",
    "\n",
    "    try:\n",
    "        exp = exp.replace(\"sqrt\",\"math.sqrt\")\n",
    "        exp = exp.replace(\"log\",\"math.log\")\n",
    "        exp = exp.replace(\"sin\",\"math.sin(math.radians\")\n",
    "        exp = exp.replace(\"cos\",\"math.cos(math.radians\")\n",
    "        exp = exp.replace(\"tan\",\"math.tan(math.radians\")\n",
    "\n",
    "        if \"math.sin(math.radians\" in exp or \"math.cos(math.radians\" in exp or \"math.tan(math.radians\" in exp:\n",
    "            exp += \")\"\n",
    "        result = eval(exp,{\"math\":math,\"__builtins__\":None})\n",
    "        print(f\"Result :- {result}\")\n",
    "\n",
    "    except:\n",
    "         print(\"Invalid expression! Please Try again.\")\n",
    "\n",
    "    "
   ]
  },
  {
   "cell_type": "code",
   "execution_count": null,
   "id": "14f9ecf5-979e-4eff-aada-c49d3b587a0d",
   "metadata": {},
   "outputs": [],
   "source": []
  },
  {
   "cell_type": "code",
   "execution_count": null,
   "id": "79d7b36b-8c6f-4124-925e-cebc91104efc",
   "metadata": {},
   "outputs": [],
   "source": []
  }
 ],
 "metadata": {
  "kernelspec": {
   "display_name": "Python [conda env:base] *",
   "language": "python",
   "name": "conda-base-py"
  },
  "language_info": {
   "codemirror_mode": {
    "name": "ipython",
    "version": 3
   },
   "file_extension": ".py",
   "mimetype": "text/x-python",
   "name": "python",
   "nbconvert_exporter": "python",
   "pygments_lexer": "ipython3",
   "version": "3.12.7"
  }
 },
 "nbformat": 4,
 "nbformat_minor": 5
}
